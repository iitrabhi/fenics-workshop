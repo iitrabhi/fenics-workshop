{
 "cells": [
  {
   "cell_type": "markdown",
   "metadata": {},
   "source": [
    "**Thermo-Mechanical Transient Simulation using FEniCS**\n",
    "\n",
    "**Objective:**\n",
    "The objective of this exercise is to perform a thermo-mechanical transient simulation using the FEniCS finite element library. In this exercise, we will explore the coupling between thermal and mechanical phenomena in a time-dependent setting. The problem involves a 2D domain, and we will consider a linear elastic material model.\n",
    "\n",
    "**Problem Description:**\n",
    "Consider a 2D square domain Ω with dimensions LxL, where L = 1.0 m. The domain is initially at room temperature T_initial = 25°C. At t = 0, the left boundary (x = 0) is subjected to a temperature of T_boundary = 100°C, while the right boundary (x = L) is maintained at T_boundary = 50°C. The top (y = L) and bottom (y = 0) boundaries are assumed to be insulated, i.e., there is no heat flux through these boundaries.\n",
    "\n",
    "The material properties are given in the following table:\n",
    "\n",
    "| Property          | Symbol | Value        |\n",
    "| ----------------- | ------ | ------------ |\n",
    "| Young's modulus   | E      | 210e9 Pa     |\n",
    "| Poisson's ratio   | ν      | 0.3          |\n",
    "| Thermal expansion | α      | 1.2e-5 1/°C  |\n",
    "| Conductivity      | k      | 50 W/(m°C)   |\n",
    "| Density           | ρ      | 7800 kg/m³   |\n",
    "| Specific heat     | c      | 480 J/(kg°C) |\n"
   ]
  },
  {
   "cell_type": "markdown",
   "metadata": {},
   "source": [
    "**Tasks:**\n",
    "\n",
    "1. Set up the 2D square domain Ω and define appropriate mesh resolution.\n",
    "2. Implement a function to compute the temperature distribution within the domain over time using the heat equation.\n",
    "3. Implement a function to compute the displacement field within the domain over time using the linear elasticity equations.\n",
    "4. Perform a transient simulation, coupling the heat equation and linear elasticity equations, to obtain the temperature and displacement fields at different time steps.\n",
    "5. Visualize the temperature and displacement fields at various time steps using appropriate visualization tools.\n",
    "6. Analyze the results and observe the temperature and displacement evolution within the domain over time.\n",
    "\n",
    "**Boundary Conditions:**\n",
    "\n",
    "- Initial condition: T(x, y, 0) = T_initial for all points (x, y) within Ω.\n",
    "- Left boundary condition: T(x = 0, y, t) = T_boundary for all y and t > 0.\n",
    "- Right boundary condition: T(x = L, y, t) = T_boundary for all y and t > 0.\n",
    "- Top and bottom boundary conditions: ∂T/∂y = 0 (insulated boundaries) for all x, t > 0.\n",
    "- Displacement boundary conditions: u(x = 0, y, t) = 0 for all y and t > 0 (fixed boundary).\n",
    "\n",
    "**Note:**\n",
    "For the simulation, you can use an appropriate time-stepping scheme (e.g., Forward Euler, Backward Euler, or Crank-Nicolson) and consider suitable time intervals to observe the transient behavior effectively. You may also choose the finite element degree and other numerical parameters based on your understanding and computational resources.\n",
    "\n",
    "Remember to interpret and analyze the results in light of the thermo-mechanical coupling and transient behavior exhibited by the system.\n"
   ]
  },
  {
   "cell_type": "code",
   "execution_count": 152,
   "metadata": {},
   "outputs": [],
   "source": [
    "from dolfin import *\n",
    "import matplotlib.pyplot as plt\n",
    "\n",
    "# Material properties\n",
    "E = 210e9  # Young's modulus (Pa)\n",
    "nu = 0.3   # Poisson's ratio\n",
    "alpha = 1.2e-5  # Thermal expansion (1/°C)\n",
    "k = 50  # Conductivity (W/(m°C))\n",
    "rho = 7800  # Density (kg/m³)\n",
    "c = 480  # Specific heat (J/(kg°C))"
   ]
  },
  {
   "cell_type": "code",
   "execution_count": 153,
   "metadata": {},
   "outputs": [],
   "source": [
    "lmbda = Constant(E*nu/((1+nu)*(1-2*nu)))\n",
    "mu = Constant(E/2/(1+nu))"
   ]
  },
  {
   "cell_type": "code",
   "execution_count": 164,
   "metadata": {},
   "outputs": [],
   "source": [
    "\n",
    "# Domain parameters\n",
    "L = 1.0  # Length of the square domain (m)\n",
    "T_initial = 25.0  # Initial temperature (°C)\n",
    "T_boundary = 50.0  # Temperature at boundary (°C)\n",
    "fixed_boundary = CompiledSubDomain(\"on_boundary\")  # Fixed boundary at x=0\n",
    "\n",
    "# Time parameters\n",
    "T_end = 100.0  # End time of the simulation (s)\n",
    "num_steps = 10  # Number of time steps\n",
    "dt = T_end / num_steps  # Time step size"
   ]
  },
  {
   "cell_type": "code",
   "execution_count": 165,
   "metadata": {},
   "outputs": [],
   "source": [
    "def eps(v):\n",
    "    return sym(grad(v))\n",
    "def sigma(v, dT):\n",
    "    return (lmbda*tr(eps(v))- alpha*(3*lmbda+2*mu)*dT)*Identity(2) + 2.0*mu*eps(v)"
   ]
  },
  {
   "cell_type": "code",
   "execution_count": 166,
   "metadata": {},
   "outputs": [],
   "source": [
    "\n",
    "# Create the mesh\n",
    "nx = ny = 50  # Number of mesh points in each direction\n",
    "mesh = RectangleMesh(Point(0, 0), Point(L, L), nx, ny)\n",
    "\n",
    "# Define function spaces for temperature (scalar) and displacement (vector)\n",
    "# Linear Lagrange element for temperature\n",
    "P1 = FiniteElement(\"P\", mesh.ufl_cell(), 1)\n",
    "# Linear Lagrange element for displacement\n",
    "P2 = VectorElement(\"P\", mesh.ufl_cell(), 1)\n",
    "# Combined function space for temperature and displacement\n",
    "W = FunctionSpace(mesh, P1 * P2)\n",
    "\n",
    "# Define trial and test functions\n",
    "T, u = TrialFunctions(W)\n",
    "dT, v = TestFunctions(W)\n",
    "\n",
    "# Initial conditions for temperature and displacement\n",
    "T_initial = Constant(T_initial)\n",
    "u_initial = Constant((0, 0))"
   ]
  },
  {
   "cell_type": "code",
   "execution_count": 167,
   "metadata": {},
   "outputs": [],
   "source": [
    "# Define the variational problem for temperature\n",
    "T_new, u_new = Function(W).split()  # Temperature at the new time step\n",
    "T_old, u_old = Function(W).split()  # Temperature at the new time step\n",
    "T_old.assign(interpolate(T_initial, W.sub(0).collapse()))\n",
    "u_old.assign(interpolate(u_initial, W.sub(1).collapse()))"
   ]
  },
  {
   "cell_type": "code",
   "execution_count": 168,
   "metadata": {},
   "outputs": [],
   "source": [
    "T_mid = 0.5 * (T_old + T)  # Midpoint temperature for time-stepping\n",
    "\n",
    "F_heat = rho * c * (T - T_old) / dt * dT * dx \\\n",
    "    + rho * c * dot(u_old, grad(T_mid)) * dT * dx \\\n",
    "    + k * dot(grad(T_mid), grad(dT)) * dx\n",
    "\n",
    "# Define the variational problem for displacement\n",
    "F_mech = inner(sigma(u, T_new), eps(v))*dx\n",
    "\n",
    "form = F_heat+F_mech\n",
    "# Apply the fixed boundary condition\n",
    "bc_u = DirichletBC(W.sub(1), (0, 0), fixed_boundary)\n",
    "bc_t = DirichletBC(W.sub(0), (T_boundary), fixed_boundary)\n",
    "bc = [bc_u, bc_t]"
   ]
  },
  {
   "cell_type": "code",
   "execution_count": 169,
   "metadata": {},
   "outputs": [
    {
     "name": "stdout",
     "output_type": "stream",
     "text": [
      "  Calling FFC just-in-time (JIT) compiler, this may take some time.\n",
      "  Calling FFC just-in-time (JIT) compiler, this may take some time.\n"
     ]
    }
   ],
   "source": [
    "ut_sol = Function(W)\n",
    "# Time-stepping loop\n",
    "for n in range(num_steps):\n",
    "    # Update the current time\n",
    "    t = (n + 1) * dt\n",
    "\n",
    "    # Solve the heat equation to update the temperature field\n",
    "    solve(lhs(form) == rhs(form), ut_sol, bc)\n",
    "    T_new, u_new = ut_sol.split()\n",
    "\n",
    "    # Update the current temperature and displacement for the next time step\n",
    "    T_old.assign(project(T_new, W.sub(0).collapse()))\n",
    "    u_old.assign(project(u_new, W.sub(1).collapse()))"
   ]
  },
  {
   "cell_type": "code",
   "execution_count": 170,
   "metadata": {},
   "outputs": [],
   "source": [
    "t_sol, u_sol = ut_sol.split()"
   ]
  },
  {
   "cell_type": "code",
   "execution_count": 172,
   "metadata": {},
   "outputs": [
    {
     "data": {
      "image/png": "[encoded data removed]",
      "text/plain": [
       "<Figure size 1296x576 with 2 Axes>"
      ]
     },
     "metadata": {
      "needs_background": "light"
     },
     "output_type": "display_data"
    }
   ],
   "source": [
    "plt.figure(figsize=(18, 8))\n",
    "p = plot(t_sol)\n",
    "plt.colorbar(p)\n",
    "plt.show()"
   ]
  },
  {
   "cell_type": "code",
   "execution_count": null,
   "metadata": {},
   "outputs": [],
   "source": []
  }
 ],
 "metadata": {
  "kernelspec": {
   "display_name": "Python 3",
   "language": "python",
   "name": "python3"
  },
  "language_info": {
   "codemirror_mode": {
    "name": "ipython",
    "version": 3
   },
   "file_extension": ".py",
   "mimetype": "text/x-python",
   "name": "python",
   "nbconvert_exporter": "python",
   "pygments_lexer": "ipython3",
   "version": "3.6.7"
  },
  "orig_nbformat": 4
 },
 "nbformat": 4,
 "nbformat_minor": 2
}
