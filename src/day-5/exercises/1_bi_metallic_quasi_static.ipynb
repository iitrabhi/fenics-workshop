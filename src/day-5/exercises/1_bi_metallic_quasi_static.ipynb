{
 "cells": [
  {
   "cell_type": "markdown",
   "metadata": {},
   "source": [
    "**Exercise: Bimetallic Quasi-Static Thermal Simulation using Steel and Brass Unit Square using FEniCS**\n",
    "\n",
    "In this exercise, you will perform a bimetallic quasi-static thermal simulation using the Finite Element Method (FEM) with FEniCS. The simulation will involve a unit square made of two different materials: steel and brass. The goal is to analyze the steady-state temperature distribution within the square and observe the thermal behavior at the interface of the two materials. |\n"
   ]
  },
  {
   "cell_type": "markdown",
   "metadata": {},
   "source": [
    "**Materials:**\n",
    "\n",
    "The following table provides the material properties for steel and brass:\n",
    "\n",
    "| Material | Thermal Conductivity (k) [W/mK] | Specific Heat Capacity (Cp) [J/kgK] | Density (ρ) [kg/m³] |\n",
    "| -------- | ------------------------------- | ----------------------------------- | ------------------- |\n",
    "| Steel    | 50.2                            | 486.0                               | 7850                |\n",
    "| Brass    | 109.0                           | 377.0                               | 8520                |\n"
   ]
  },
  {
   "cell_type": "markdown",
   "metadata": {},
   "source": [
    "**Task:**\n",
    "\n",
    "1. **Geometry and Mesh Generation:**\n",
    "   - Create a unit square with side length L = 1.0 units (you can choose any unit system).\n",
    "   - Divide the square into a suitable number of elements to create a mesh. You can start with a relatively coarse mesh and later refine it to observe its effect on the simulation results.\n"
   ]
  },
  {
   "cell_type": "code",
   "execution_count": 9,
   "metadata": {},
   "outputs": [],
   "source": [
    "from dolfin import *\n",
    "from matplotlib import pyplot as plt\n",
    "mesh = UnitSquareMesh(10, 10)"
   ]
  },
  {
   "cell_type": "markdown",
   "metadata": {},
   "source": [
    "2. **Setting up the Problem:**\n",
    "   - Define the governing equation for steady-state heat conduction in 2D. The equation involves the Laplace operator and accounts for the material properties.\n",
    "   - Implement appropriate boundary conditions for the simulation. Specify the temperature boundary condition for all four sides of the unit square. You can use Dirichlet boundary conditions, where you set the temperature values at the boundaries.\n"
   ]
  },
  {
   "cell_type": "code",
   "execution_count": 10,
   "metadata": {},
   "outputs": [],
   "source": [
    "def lateral_sides(x, on_boundary):\n",
    "    return (near(x[0], 0) or near(x[0], 1)) and on_boundary\n",
    "\n",
    "\n",
    "def bottom(x, on_boundary):\n",
    "    return near(x[1], 0) and on_boundary\n",
    "\n",
    "\n",
    "def top(x, on_boundary):\n",
    "    return near(x[1], 1) and on_boundary"
   ]
  },
  {
   "cell_type": "markdown",
   "metadata": {},
   "source": [
    "3. **Material Properties:**\n",
    "   - Use the provided material properties for steel and brass.\n"
   ]
  },
  {
   "cell_type": "code",
   "execution_count": 25,
   "metadata": {},
   "outputs": [
    {
     "data": {
      "image/png": "[encoded data removed]",
      "text/plain": [
       "<Figure size 432x288 with 1 Axes>"
      ]
     },
     "metadata": {
      "needs_background": "light"
     },
     "output_type": "display_data"
    }
   ],
   "source": [
    "mat_1_sub_domain = CompiledSubDomain(\"x[1]<=D/2\", D=1)\n",
    "mat_2_sub_domain = CompiledSubDomain(\"x[1]>=D/2\", D=1)\n",
    "\n",
    "dim = mesh.topology().dim()\n",
    "mf = MeshFunction(\"size_t\", mesh, dim)\n",
    "\n",
    "mat_1 = 1\n",
    "mat_2 = 2\n",
    "\n",
    "mat_1_sub_domain.mark(mf, mat_1)\n",
    "mat_2_sub_domain.mark(mf, mat_2)\n",
    "\n",
    "plot(mf)\n",
    "\n",
    "mat_prop = {\n",
    "    \"steel\": {\"k\": 50.2},\n",
    "    \"brass\": {\"k\": 1090}\n",
    "}\n",
    "dx = Measure(\"dx\", subdomain_data=mf)"
   ]
  },
  {
   "cell_type": "markdown",
   "metadata": {},
   "source": [
    "4. **Thermal Simulation:**\n",
    "   - Assemble the finite element problem using FEniCS and solve the system of equations to obtain the temperature distribution within the unit square.\n",
    "   - Perform the simulation for different time steps to observe the quasi-static behavior of the system. You can use a small time step for better accuracy.\n"
   ]
  },
  {
   "cell_type": "code",
   "execution_count": 26,
   "metadata": {},
   "outputs": [],
   "source": [
    "VT = FunctionSpace(mesh, \"CG\", 1)\n",
    "T_, dT = TestFunction(VT), TrialFunction(VT)\n",
    "Delta_T = Function(VT, name=\"Temperature increase\")"
   ]
  },
  {
   "cell_type": "code",
   "execution_count": 27,
   "metadata": {},
   "outputs": [],
   "source": [
    "aT = dot(mat_prop[\"steel\"][\"k\"]*grad(dT), grad(T_))*dx(mat_1) + \\\n",
    "    dot(mat_prop[\"brass\"][\"k\"]*grad(dT), grad(T_))*dx(mat_2)\n",
    "LT = Constant(0)*T_*dx\n",
    "\n",
    "bcT = [DirichletBC(VT, Constant(50.), bottom),\n",
    "       DirichletBC(VT, Constant(0.), top),\n",
    "       DirichletBC(VT, Constant(0.), lateral_sides)]\n",
    "solve(aT == LT, Delta_T, bcT)"
   ]
  },
  {
   "cell_type": "markdown",
   "metadata": {},
   "source": [
    "5. **Post-Processing and Analysis:**\n",
    "   - Visualize the temperature distribution using contour plots or color maps.\n",
    "   - Analyze the temperature distribution at the interface between steel and brass. Observe if there are any significant temperature gradients or discontinuities at this interface.\n"
   ]
  },
  {
   "cell_type": "code",
   "execution_count": 28,
   "metadata": {},
   "outputs": [
    {
     "data": {
      "image/png": "[encoded data removed]",
      "text/plain": [
       "<Figure size 1296x576 with 2 Axes>"
      ]
     },
     "metadata": {
      "needs_background": "light"
     },
     "output_type": "display_data"
    }
   ],
   "source": [
    "plt.figure(figsize=(18, 8))\n",
    "p = plot(Delta_T)\n",
    "plt.colorbar(p)\n",
    "plt.show()"
   ]
  },
  {
   "cell_type": "markdown",
   "metadata": {},
   "source": [
    "6. **Mesh Refinement:**\n",
    "   - Re-run the simulation with a refined mesh (i.e., more elements) and compare the results with the coarser mesh. Discuss the differences and the effect of mesh refinement on the accuracy of the simulation.\n"
   ]
  },
  {
   "cell_type": "code",
   "execution_count": null,
   "metadata": {},
   "outputs": [],
   "source": []
  },
  {
   "cell_type": "markdown",
   "metadata": {},
   "source": [
    "7. **Discussion and Conclusion:**\n",
    "   - Write a summary of your findings, including observations about the temperature distribution, behavior at the interface of the two materials, and the influence of mesh refinement on the simulation results.\n"
   ]
  },
  {
   "cell_type": "code",
   "execution_count": null,
   "metadata": {},
   "outputs": [],
   "source": []
  }
 ],
 "metadata": {
  "kernelspec": {
   "display_name": "Python 3",
   "language": "python",
   "name": "python3"
  },
  "language_info": {
   "codemirror_mode": {
    "name": "ipython",
    "version": 3
   },
   "file_extension": ".py",
   "mimetype": "text/x-python",
   "name": "python",
   "nbconvert_exporter": "python",
   "pygments_lexer": "ipython3",
   "version": "3.6.7"
  },
  "orig_nbformat": 4
 },
 "nbformat": 4,
 "nbformat_minor": 2
}
